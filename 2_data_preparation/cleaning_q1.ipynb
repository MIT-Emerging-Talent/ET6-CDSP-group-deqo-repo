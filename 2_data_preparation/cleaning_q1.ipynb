{
 "cells": [
  {
   "cell_type": "markdown",
   "metadata": {},
   "source": [
    "\n",
    "### Are there **geographic hotspots** where **neonatal mortality** and **morbidity** cluster?\n",
    "\n",
    "To answer the research question, Variables were selected and categorized into these four categories:\n",
    "\n",
    "1. Geographical location\n",
    "2. Outcomes -> mortality & morbidity\n",
    "3. Care Seeking Behavior\n",
    "    1. Preventive dimensions -> Vaccinations\n",
    "    2. Responsive dimensions -> Treatment and seeking help\n",
    "    3. Exposure dimensions -> birth weight + ANC/PNC\n",
    "4. Contextual/ Environmental Risk Factors\n",
    "\n",
    "The data consists of **82 selected variables** that are related to the previous categories"
   ]
  },
  {
   "cell_type": "code",
   "execution_count": 88,
   "metadata": {
    "executionInfo": {
     "elapsed": 201,
     "status": "ok",
     "timestamp": 1755565699480,
     "user": {
      "displayName": "Safaa Osman",
      "userId": "00051891371956803704"
     },
     "user_tz": -180
    },
    "id": "lrbFyTo-xEGH"
   },
   "outputs": [],
   "source": [
    "import pandas as pd\n",
    "\n",
    "df = pd.read_csv(\"KR_data.csv\")"
   ]
  },
  {
   "cell_type": "code",
   "execution_count": null,
   "metadata": {
    "colab": {
     "base_uri": "https://localhost:8080/"
    },
    "executionInfo": {
     "elapsed": 88,
     "status": "ok",
     "timestamp": 1755565702618,
     "user": {
      "displayName": "Safaa Osman",
      "userId": "00051891371956803704"
     },
     "user_tz": -180
    },
    "id": "Xn4P648nxTwy",
    "outputId": "3668b11d-c0a2-4336-bd90-b219b9a804f6"
   },
   "outputs": [
    {
     "name": "stdout",
     "output_type": "stream",
     "text": [
      "<class 'pandas.core.frame.DataFrame'>\n",
      "RangeIndex: 21218 entries, 0 to 21217\n",
      "Data columns (total 83 columns):\n",
      " #   Column  Non-Null Count  Dtype  \n",
      "---  ------  --------------  -----  \n",
      " 0   V024    21218 non-null  float64\n",
      " 1   V026    21218 non-null  float64\n",
      " 2   V102    21218 non-null  float64\n",
      " 3   V106    21218 non-null  float64\n",
      " 4   V206    4178 non-null   float64\n",
      " 5   V207    4178 non-null   float64\n",
      " 6   B5      19491 non-null  float64\n",
      " 7   B6      949 non-null    float64\n",
      " 8   B7      949 non-null    float64\n",
      " 9   B8      18452 non-null  float64\n",
      " 10  M18     18212 non-null  float64\n",
      " 11  M19     1867 non-null   float64\n",
      " 12  H2      4239 non-null   float64\n",
      " 13  H3      3269 non-null   float64\n",
      " 14  H4      4063 non-null   float64\n",
      " 15  H5      2812 non-null   float64\n",
      " 16  H6      3052 non-null   float64\n",
      " 17  H7      2470 non-null   float64\n",
      " 18  H8      2329 non-null   float64\n",
      " 19  H9      3699 non-null   float64\n",
      " 20  H11     17066 non-null  float64\n",
      " 21  H12A    88 non-null     float64\n",
      " 22  H12B    4 non-null      float64\n",
      " 23  H12C    199 non-null    float64\n",
      " 24  H12D    20 non-null     float64\n",
      " 25  H12E    7 non-null      float64\n",
      " 26  H12G    1 non-null      float64\n",
      " 27  H12J    46 non-null     float64\n",
      " 28  H12K    90 non-null     float64\n",
      " 29  H12M    2 non-null      float64\n",
      " 30  H12S    1 non-null      float64\n",
      " 31  H12T    2 non-null      float64\n",
      " 32  H12U    1 non-null      float64\n",
      " 33  H12X    1 non-null      float64\n",
      " 34  H13     928 non-null    float64\n",
      " 35  H13B    928 non-null    float64\n",
      " 36  H14     928 non-null    float64\n",
      " 37  H15     177 non-null    float64\n",
      " 38  H15A    20 non-null     float64\n",
      " 39  H15B    22 non-null     float64\n",
      " 40  H15C    8 non-null      float64\n",
      " 41  H15D    14 non-null     float64\n",
      " 42  H15E    928 non-null    float64\n",
      " 43  H15F    12 non-null     float64\n",
      " 44  H15G    34 non-null     float64\n",
      " 45  H15H    1 non-null      float64\n",
      " 46  H15I    6 non-null      float64\n",
      " 47  H20     928 non-null    float64\n",
      " 48  H22     17066 non-null  float64\n",
      " 49  H31     17066 non-null  float64\n",
      " 50  H31B    17066 non-null  float64\n",
      " 51  H31C    991 non-null    float64\n",
      " 52  H32A    67 non-null     float64\n",
      " 53  H32B    7 non-null      float64\n",
      " 54  H32C    143 non-null    float64\n",
      " 55  H32D    15 non-null     float64\n",
      " 56  H32E    8 non-null      float64\n",
      " 57  H32G    1 non-null      float64\n",
      " 58  H32K    198 non-null    float64\n",
      " 59  H32S    2 non-null      float64\n",
      " 60  H32T    1 non-null      float64\n",
      " 61  H32X    1 non-null      float64\n",
      " 62  H32Y    1095 non-null   float64\n",
      " 63  H37A    22 non-null     float64\n",
      " 64  H37B    13 non-null     float64\n",
      " 65  H37D    6 non-null      float64\n",
      " 66  H37DA   7 non-null      float64\n",
      " 67  H37E    15 non-null     float64\n",
      " 68  H37AA   4 non-null      float64\n",
      " 69  H37AB   4 non-null      float64\n",
      " 70  H37H    5 non-null      float64\n",
      " 71  H37I    225 non-null    float64\n",
      " 72  H37J    53 non-null     float64\n",
      " 73  H37K    41 non-null     float64\n",
      " 74  H37L    141 non-null    float64\n",
      " 75  H37M    38 non-null     float64\n",
      " 76  H37X    18 non-null     float64\n",
      " 77  H37Y    607 non-null    float64\n",
      " 78  H37Z    36 non-null     float64\n",
      " 79  V190    21218 non-null  float64\n",
      " 80  M14     8904 non-null   float64\n",
      " 81  M13     21218 non-null  float64\n",
      " 82  M70     2176 non-null   float64\n",
      "dtypes: float64(83)\n",
      "memory usage: 13.4 MB\n"
     ]
    }
   ],
   "source": [
    "# TODO: Add the following variables: Place of birth (M15), Current age of respondent (V102), water source (V113)\n",
    "selected_colms = [\n",
    "    \"V024\",\n",
    "    \"V026\",\n",
    "    \"V102\",\n",
    "    \"V106\",\n",
    "    \"V206\",\n",
    "    \"V207\",\n",
    "    \"B5\",\n",
    "    \"B6\",\n",
    "    \"B7\",\n",
    "    \"B8\",\n",
    "    \"M18\",\n",
    "    \"M19\",\n",
    "    \"H2\",\n",
    "    \"H3\",\n",
    "    \"H4\",\n",
    "    \"H5\",\n",
    "    \"H6\",\n",
    "    \"H7\",\n",
    "    \"H8\",\n",
    "    \"H9\",\n",
    "    \"H11\",\n",
    "    \"H12A\",\n",
    "    \"H12B\",\n",
    "    \"H12C\",\n",
    "    \"H12D\",\n",
    "    \"H12E\",\n",
    "    \"H12G\",\n",
    "    \"H12J\",\n",
    "    \"H12K\",\n",
    "    \"H12M\",\n",
    "    \"H12S\",\n",
    "    \"H12T\",\n",
    "    \"H12U\",\n",
    "    \"H12X\",\n",
    "    \"H13\",\n",
    "    \"H13B\",\n",
    "    \"H14\",\n",
    "    \"H15\",\n",
    "    \"H15A\",\n",
    "    \"H15B\",\n",
    "    \"H15C\",\n",
    "    \"H15D\",\n",
    "    \"H15E\",\n",
    "    \"H15F\",\n",
    "    \"H15G\",\n",
    "    \"H15H\",\n",
    "    \"H15I\",\n",
    "    \"H20\",\n",
    "    \"H22\",\n",
    "    \"H31\",\n",
    "    \"H31B\",\n",
    "    \"H31C\",\n",
    "    \"H32A\",\n",
    "    \"H32B\",\n",
    "    \"H32C\",\n",
    "    \"H32D\",\n",
    "    \"H32E\",\n",
    "    \"H32G\",\n",
    "    \"H32K\",\n",
    "    \"H32S\",\n",
    "    \"H32T\",\n",
    "    \"H32X\",\n",
    "    \"H32Y\",\n",
    "    \"H37A\",\n",
    "    \"H37B\",\n",
    "    \"H37D\",\n",
    "    \"H37DA\",\n",
    "    \"H37E\",\n",
    "    \"H37AA\",\n",
    "    \"H37AB\",\n",
    "    \"H37H\",\n",
    "    \"H37I\",\n",
    "    \"H37J\",\n",
    "    \"H37K\",\n",
    "    \"H37L\",\n",
    "    \"H37M\",\n",
    "    \"H37X\",\n",
    "    \"H37Y\",\n",
    "    \"H37Z\",\n",
    "    \"V190\",\n",
    "    \"M14\",\n",
    "    \"M13\",\n",
    "    \"M70\",\n",
    "]\n",
    "\n",
    "KR_df = df[selected_colms]\n",
    "\n",
    "KR_df.info()"
   ]
  },
  {
   "cell_type": "code",
   "execution_count": 90,
   "metadata": {
    "colab": {
     "base_uri": "https://localhost:8080/"
    },
    "executionInfo": {
     "elapsed": 66,
     "status": "ok",
     "timestamp": 1755557984255,
     "user": {
      "displayName": "Safaa Osman",
      "userId": "00051891371956803704"
     },
     "user_tz": -180
    },
    "id": "b0Vo9Qwv4R1i",
    "outputId": "d2e5ee2f-23c4-47d7-d2f9-87c5c5a3248c"
   },
   "outputs": [
    {
     "name": "stdout",
     "output_type": "stream",
     "text": [
      "V024        0\n",
      "V026        0\n",
      "V102        0\n",
      "V106        0\n",
      "V206    17040\n",
      "        ...  \n",
      "H37Z    21182\n",
      "V190        0\n",
      "M14     12314\n",
      "M13         0\n",
      "M70     19042\n",
      "Length: 83, dtype: int64\n"
     ]
    }
   ],
   "source": [
    "# calculate the missing values\n",
    "missing_values = KR_df.isnull().sum()\n",
    "print(missing_values)\n",
    "# 77 out of 83 columns have missing values"
   ]
  },
  {
   "cell_type": "markdown",
   "metadata": {},
   "source": [
    "## Missing Data Analysis\n",
    "\n",
    "Out of 83 total columns (82 selected variables + ID), **77 variables contained missing values**.\n",
    "\n",
    "To manage missingness, variables were categorized by the percentage of missing data.\n",
    "\n",
    "- **Low Missingness (≤5%)**: Considered negligible, generally left as-is or imputed minimally.\n",
    "- **Moderate Missingness (5–10%)**: Evaluated for safe imputation strategies.\n",
    "- **High Missingness (>10%)**: Required case-by-case assessment; often contextual or structural (e.g., skip patterns in survey)."
   ]
  },
  {
   "cell_type": "code",
   "execution_count": 91,
   "metadata": {},
   "outputs": [
    {
     "data": {
      "text/plain": [
       "B5    8.139316\n",
       "dtype: float64"
      ]
     },
     "execution_count": 91,
     "metadata": {},
     "output_type": "execute_result"
    }
   ],
   "source": [
    "# Categorize Columns by Missingness\n",
    "# data missing between 5-10% is usually safe to impute\n",
    "missing_data = KR_df.isnull().sum() / KR_df.shape[0] * 100\n",
    "missing_data = missing_data[(missing_data < 10) & (missing_data > 0)].sort_values(\n",
    "    ascending=False\n",
    ")\n",
    "missing_data"
   ]
  },
  {
   "cell_type": "markdown",
   "metadata": {},
   "source": [
    "### Variable **B5 (Child Alive or Dead at Time of Interview)**\n",
    "\n",
    "- **Missingness:** 8%\n",
    "- **Assessment:**\n",
    "    - Records with missing B5 values also tended to be missing in other critical columns (e.g., sickness symptoms, ANC/PNC details, mother’s reported number of deceased children).\n",
    "    - No geographic pattern or correlation with district was found.\n",
    "- **Decision:**\n",
    "    - Dropped rows with missing B5 values, as these cases were largely incomplete across multiple outcome-related variables."
   ]
  },
  {
   "cell_type": "code",
   "execution_count": 92,
   "metadata": {},
   "outputs": [],
   "source": [
    "KR_df = KR_df.dropna(subset=[\"B5\"])"
   ]
  },
  {
   "cell_type": "code",
   "execution_count": 93,
   "metadata": {},
   "outputs": [
    {
     "data": {
      "text/plain": [
       "M18    6.674876\n",
       "B8     5.330665\n",
       "dtype: float64"
      ]
     },
     "execution_count": 93,
     "metadata": {},
     "output_type": "execute_result"
    }
   ],
   "source": [
    "missing_data = KR_df.isnull().sum() / KR_df.shape[0] * 100\n",
    "missing_data = missing_data[(missing_data < 10) & (missing_data > 0)].sort_values(\n",
    "    ascending=False\n",
    ")\n",
    "missing_data"
   ]
  },
  {
   "cell_type": "code",
   "execution_count": 94,
   "metadata": {},
   "outputs": [
    {
     "data": {
      "text/plain": [
       "B5\n",
       "2.0    944\n",
       "1.0     95\n",
       "Name: count, dtype: int64"
      ]
     },
     "execution_count": 94,
     "metadata": {},
     "output_type": "execute_result"
    }
   ],
   "source": [
    "KR_df[KR_df[\"B8\"].isnull()][\"B5\"].value_counts()"
   ]
  },
  {
   "cell_type": "markdown",
   "metadata": {},
   "source": [
    "### (5–10% Missingness) - After Reassessment\n",
    "\n",
    "- **B8 (Current Age of Child, if alive)**\n",
    "    - **Missingness:** ~5%\n",
    "    - **Treatment:**\n",
    "        - If child is **alive**: Imputed using the **mode** (most frequently reported current age).\n",
    "        - If child is **dead**: Assigned value **“-1”** to explicitly indicate that current age is not applicable.\n",
    "- **M18 (Size of Child at Birth)**\n",
    "    - **Missingness:** ~6.7%\n",
    "    - **Treatment:**\n",
    "        - Imputed missing values with **“Don’t Know”**, which is a valid categorical response already present in the dataset.\n",
    "        - This preserves interpretability and prevents introducing artificial bias by forcing numeric or derived imputations."
   ]
  },
  {
   "cell_type": "markdown",
   "metadata": {},
   "source": [
    "Since the outcome now is always available (B5) the value of B8 if missing can be filled with mode if child is alive, or -1 if the child is dead\n",
    "\n",
    "Values missing for M18, can be filled with the value \"Don't Know\"\n",
    "\n",
    "B5 -> 1 = alive, 2 = dead"
   ]
  },
  {
   "cell_type": "code",
   "execution_count": 95,
   "metadata": {},
   "outputs": [],
   "source": [
    "import numpy as np\n",
    "import statistics\n",
    "\n",
    "KR_df[\"B8\"] = np.where(\n",
    "    KR_df[\"B8\"].isnull() & (KR_df[\"B5\"] == 2.0),\n",
    "    -1,\n",
    "    np.where(\n",
    "        KR_df[\"B8\"].isnull() & (KR_df[\"B5\"] == 1.0),\n",
    "        statistics.mode(KR_df[\"B8\"]),\n",
    "        KR_df[\"B8\"],\n",
    "    ),\n",
    ")"
   ]
  },
  {
   "cell_type": "code",
   "execution_count": 96,
   "metadata": {},
   "outputs": [],
   "source": [
    "KR_df = KR_df.fillna({\"M18\": 8.0})"
   ]
  },
  {
   "cell_type": "markdown",
   "metadata": {},
   "source": [
    "### Consistency Checks on Mortality Variables\n",
    "\n",
    "Before addressing variables with 10–30% missingness, I performed **consistency checks** on the mortality-related variables **B6 (Age at Death in Months)** and **B7 (Age at Death in Days)**.\n",
    "\n",
    "- **Logic Applied:**\n",
    "    - If **B5 = 1 (Child Alive)**, then **B6** and **B7** should not contain valid values.\n",
    "- **Finding:**\n",
    "    - For alive children (B5 = 1), both B6 and B7 were filled with `NaN`.\n",
    "- **Action Taken:**\n",
    "    - Assigned **“-1”** to both B6 and B7 whenever B5 = 1, to explicitly indicate “Not Applicable.”\n",
    "\n",
    "This ensured consistency across survival and age-at-death variables."
   ]
  },
  {
   "cell_type": "code",
   "execution_count": 97,
   "metadata": {},
   "outputs": [
    {
     "name": "stdout",
     "output_type": "stream",
     "text": [
      "       B6  B7\n",
      "0     NaN NaN\n",
      "1     NaN NaN\n",
      "7     NaN NaN\n",
      "8     NaN NaN\n",
      "9     NaN NaN\n",
      "...    ..  ..\n",
      "21213 NaN NaN\n",
      "21214 NaN NaN\n",
      "21215 NaN NaN\n",
      "21216 NaN NaN\n",
      "21217 NaN NaN\n",
      "\n",
      "[18542 rows x 2 columns]\n"
     ]
    }
   ],
   "source": [
    "print(KR_df[KR_df[\"B5\"] == 1.0][[\"B6\", \"B7\"]])\n",
    "\n",
    "# Consistency check for B6 and B7 for alive children\n",
    "KR_df.loc[KR_df[\"B5\"] == 1.0, \"B6\"] = -1\n",
    "KR_df.loc[KR_df[\"B5\"] == 1.0, \"B7\"] = -1"
   ]
  },
  {
   "cell_type": "code",
   "execution_count": 98,
   "metadata": {},
   "outputs": [
    {
     "data": {
      "text/plain": [
       "B6    B7  \n",
       "-1.0  -1.0    18542\n",
       "Name: count, dtype: int64"
      ]
     },
     "execution_count": 98,
     "metadata": {},
     "output_type": "execute_result"
    }
   ],
   "source": [
    "KR_df[KR_df[\"B5\"] == 1.0][[\"B6\", \"B7\"]].value_counts()"
   ]
  },
  {
   "cell_type": "code",
   "execution_count": 99,
   "metadata": {},
   "outputs": [
    {
     "data": {
      "text/plain": [
       "0"
      ]
     },
     "execution_count": 99,
     "metadata": {},
     "output_type": "execute_result"
    }
   ],
   "source": [
    "missing_data = KR_df.isnull().sum() / KR_df.shape[0] * 100\n",
    "missing_data = missing_data[(missing_data < 10) & (missing_data > 0)].sort_values(\n",
    "    ascending=False\n",
    ")\n",
    "missing_data.count()"
   ]
  },
  {
   "cell_type": "code",
   "execution_count": 100,
   "metadata": {},
   "outputs": [
    {
     "data": {
      "text/plain": [
       "4"
      ]
     },
     "execution_count": 100,
     "metadata": {},
     "output_type": "execute_result"
    }
   ],
   "source": [
    "missing_data = KR_df.isnull().sum() / KR_df.shape[0] * 100\n",
    "missing_data = missing_data[(missing_data < 30) & (missing_data > 10)].sort_values(\n",
    "    ascending=False\n",
    ")\n",
    "missing_data.count()"
   ]
  },
  {
   "cell_type": "markdown",
   "metadata": {},
   "source": [
    "## Missingness Between 10–30% (Child Morbidity and Care-Seeking)\n",
    "\n",
    "The next set of variables with moderate missingness (10–30%) were primarily related to **child morbidity (diarrhea, fever, respiratory symptoms)** and their associated **care-seeking and treatment** variables.\n",
    "\n",
    "### Diarrhea-Related Variables\n",
    "\n",
    "- **H11 (Child had diarrhea in the last 2 weeks):**\n",
    "    - Missing values replaced with **“8 = Don’t Know”**, to avoid assumptions of presence/absence.\n",
    "- **Seeking Help & Treatment Variables (linked to diarrhea):**\n",
    "    - If **H11 = NaN (child not reported for diarrhea)**, all associated help-seeking and treatment variables were encoded as **0 (Not Selected)** for consistency."
   ]
  },
  {
   "cell_type": "code",
   "execution_count": 101,
   "metadata": {
    "colab": {
     "base_uri": "https://localhost:8080/"
    },
    "executionInfo": {
     "elapsed": 46,
     "status": "ok",
     "timestamp": 1755565841516,
     "user": {
      "displayName": "Safaa Osman",
      "userId": "00051891371956803704"
     },
     "user_tz": -180
    },
    "id": "bJo_Z53GTmGK",
    "outputId": "75a1b729-c9cd-4a39-ff98-816149084fbf"
   },
   "outputs": [],
   "source": [
    "# ensure if the \"Diharrea Sought help\" all are blank if the patient not having Diharrea\n",
    "# list of Sought help options\n",
    "sought_help_options = [\n",
    "    \"H12A\",\n",
    "    \"H12B\",\n",
    "    \"H12C\",\n",
    "    \"H12D\",\n",
    "    \"H12E\",\n",
    "    \"H12G\",\n",
    "    \"H12J\",\n",
    "    \"H12K\",\n",
    "    \"H12M\",\n",
    "    \"H12S\",\n",
    "    \"H12T\",\n",
    "    \"H12U\",\n",
    "    \"H12X\",\n",
    "]\n",
    "\n",
    "# Treatment options\n",
    "treatment_options = [\n",
    "    \"H13\",\n",
    "    \"H13B\",\n",
    "    \"H14\",\n",
    "    \"H15\",\n",
    "    \"H15A\",\n",
    "    \"H15B\",\n",
    "    \"H15C\",\n",
    "    \"H15D\",\n",
    "    \"H15E\",\n",
    "    \"H15F\",\n",
    "    \"H15G\",\n",
    "    \"H15H\",\n",
    "    \"H15I\",\n",
    "    \"H20\",\n",
    "]"
   ]
  },
  {
   "cell_type": "code",
   "execution_count": 102,
   "metadata": {},
   "outputs": [],
   "source": [
    "KR_df[KR_df[\"H11\"].isna()]\n",
    "KR_df.loc[KR_df[\"H11\"].isna(), sought_help_options + treatment_options] = 0\n",
    "KR_df[\"H11\"] = KR_df[\"H11\"].fillna(8.0)"
   ]
  },
  {
   "cell_type": "code",
   "execution_count": 103,
   "metadata": {},
   "outputs": [],
   "source": [
    "KR_df[treatment_options + sought_help_options].isna().sum()\n",
    "# if a treatment or an option for seeking help is not chosen, assume it wasn't selected -> fill with 0\n",
    "\n",
    "KR_df[treatment_options + sought_help_options] = KR_df[\n",
    "    treatment_options + sought_help_options\n",
    "].fillna(0)"
   ]
  },
  {
   "cell_type": "code",
   "execution_count": 104,
   "metadata": {},
   "outputs": [
    {
     "data": {
      "text/plain": [
       "Series([], dtype: float64)"
      ]
     },
     "execution_count": 104,
     "metadata": {},
     "output_type": "execute_result"
    }
   ],
   "source": [
    "missing_data = KR_df.isnull().sum() / KR_df.shape[0] * 100\n",
    "missing_data = missing_data[(missing_data < 10) & (missing_data > 0)].sort_values(\n",
    "    ascending=False\n",
    ")\n",
    "missing_data"
   ]
  },
  {
   "cell_type": "code",
   "execution_count": 105,
   "metadata": {},
   "outputs": [
    {
     "data": {
      "text/plain": [
       "H22     12.44164\n",
       "H31     12.44164\n",
       "H31B    12.44164\n",
       "dtype: float64"
      ]
     },
     "execution_count": 105,
     "metadata": {},
     "output_type": "execute_result"
    }
   ],
   "source": [
    "missing_data = KR_df.isnull().sum() / KR_df.shape[0] * 100\n",
    "missing_data = missing_data[(missing_data < 30) & (missing_data > 10)].sort_values(\n",
    "    ascending=False\n",
    ")\n",
    "missing_data"
   ]
  },
  {
   "cell_type": "markdown",
   "metadata": {},
   "source": [
    "### Fever-Related Variables\n",
    "\n",
    "- **H22 (Child had fever in the last 2 weeks):**\n",
    "    - Missing values replaced with **“8 = Don’t Know.”**\n",
    "- **Help-Seeking & Treatment Variables (linked to fever):**\n",
    "    - If H22 is missing, all related variables were encoded as **0 (Not Selected).**\n",
    "\n",
    "### Respiratory Symptoms (Cough, Short Rapid Breaths)\n",
    "\n",
    "- **H31B (Short/Rapid Breathing) & H31C (Chest Problems/Blocked Nose):**\n",
    "    - Missing values replaced with **“8 = Don’t Know.”**\n",
    "- **Associated Care-Seeking Variables:**\n",
    "    - If symptom variable was missing, treatment and care-seeking responses were set to **0 (Not Selected).**"
   ]
  },
  {
   "cell_type": "code",
   "execution_count": 106,
   "metadata": {},
   "outputs": [],
   "source": [
    "# list of Sought help options for fever and cough\n",
    "sought_help_fever = [\n",
    "    \"H32A\",\n",
    "    \"H32B\",\n",
    "    \"H32C\",\n",
    "    \"H32D\",\n",
    "    \"H32E\",\n",
    "    \"H32G\",\n",
    "    \"H32K\",\n",
    "    \"H32S\",\n",
    "    \"H32T\",\n",
    "    \"H32X\",\n",
    "    \"H32Y\",\n",
    "]\n",
    "\n",
    "# Treatment options for fever and cough\n",
    "treatment_fever = [\n",
    "    \"H37A\",\n",
    "    \"H37B\",\n",
    "    \"H37D\",\n",
    "    \"H37DA\",\n",
    "    \"H37E\",\n",
    "    \"H37AA\",\n",
    "    \"H37AB\",\n",
    "    \"H37H\",\n",
    "    \"H37I\",\n",
    "    \"H37J\",\n",
    "    \"H37K\",\n",
    "    \"H37L\",\n",
    "    \"H37M\",\n",
    "    \"H37X\",\n",
    "    \"H37Y\",\n",
    "    \"H37Z\",\n",
    "]"
   ]
  },
  {
   "cell_type": "code",
   "execution_count": 107,
   "metadata": {},
   "outputs": [],
   "source": [
    "# define missing data for fever and fill it with don't know since it's less than 30%\n",
    "KR_df.loc[KR_df[\"H22\"].isna(), sought_help_fever + treatment_fever] = 0\n",
    "KR_df[\"H22\"] = KR_df[\"H22\"].fillna(8.0)"
   ]
  },
  {
   "cell_type": "code",
   "execution_count": 108,
   "metadata": {},
   "outputs": [],
   "source": [
    "KR_df.loc[\n",
    "    KR_df[\"H31B\"].isna(), sought_help_fever + treatment_fever\n",
    "].isna().sum()  # No Null values\n",
    "KR_df[\"H31B\"] = KR_df[\"H31B\"].fillna(8.0)"
   ]
  },
  {
   "cell_type": "code",
   "execution_count": 109,
   "metadata": {},
   "outputs": [],
   "source": [
    "KR_df[treatment_fever + sought_help_fever] = KR_df[\n",
    "    treatment_fever + sought_help_fever\n",
    "].fillna(0)"
   ]
  },
  {
   "cell_type": "code",
   "execution_count": 110,
   "metadata": {},
   "outputs": [],
   "source": [
    "KR_df[\"H31C\"] = KR_df[\"H31C\"].fillna(8.0)\n",
    "KR_df[\"H31\"] = KR_df[\"H31\"].fillna(8.0)"
   ]
  },
  {
   "cell_type": "markdown",
   "metadata": {},
   "source": [
    "**After this step, all variables with missingness <30% were resolved.**"
   ]
  },
  {
   "cell_type": "code",
   "execution_count": 111,
   "metadata": {},
   "outputs": [
    {
     "data": {
      "text/plain": [
       "Series([], dtype: float64)"
      ]
     },
     "execution_count": 111,
     "metadata": {},
     "output_type": "execute_result"
    }
   ],
   "source": [
    "missing_data = KR_df.isnull().sum() / KR_df.shape[0] * 100\n",
    "missing_data = missing_data[(missing_data < 10) & (missing_data > 0)].sort_values(\n",
    "    ascending=False\n",
    ")\n",
    "missing_data"
   ]
  },
  {
   "cell_type": "code",
   "execution_count": 112,
   "metadata": {},
   "outputs": [
    {
     "data": {
      "text/plain": [
       "Series([], dtype: float64)"
      ]
     },
     "execution_count": 112,
     "metadata": {},
     "output_type": "execute_result"
    }
   ],
   "source": [
    "missing_data = KR_df.isnull().sum() / KR_df.shape[0] * 100\n",
    "missing_data = missing_data[(missing_data < 30) & (missing_data > 10)].sort_values(\n",
    "    ascending=False\n",
    ")\n",
    "missing_data"
   ]
  },
  {
   "cell_type": "code",
   "execution_count": null,
   "metadata": {},
   "outputs": [],
   "source": [
    "# TODO: check consistency of care-sought variables that indicate no treatment/no care with other variables. make sure if true other false and vice versa"
   ]
  },
  {
   "cell_type": "markdown",
   "metadata": {},
   "source": [
    "## Variables with >30% Missingness\n",
    "\n",
    "Finally, I addressed 13 variables with **high missingness (54–90%)**, including:\n",
    "\n",
    "- Child **vaccination records**\n",
    "- Maternal **ANC/PNC care details**\n",
    "- **Birth weight (in kg)**\n",
    "- Maternal report of **number of sons/daughters deceased**"
   ]
  },
  {
   "cell_type": "code",
   "execution_count": 113,
   "metadata": {},
   "outputs": [
    {
     "data": {
      "text/plain": [
       "M19     90.462265\n",
       "M70     88.835873\n",
       "H8      88.050895\n",
       "H7      87.327484\n",
       "H5      85.572828\n",
       "H6      84.341491\n",
       "H3      83.228157\n",
       "H9      81.022010\n",
       "V206    80.165204\n",
       "V207    80.165204\n",
       "H4      79.154482\n",
       "H2      78.251501\n",
       "M14     54.317377\n",
       "dtype: float64"
      ]
     },
     "execution_count": 113,
     "metadata": {},
     "output_type": "execute_result"
    }
   ],
   "source": [
    "missing_data = KR_df.isnull().sum() / KR_df.shape[0] * 100\n",
    "missing_data = missing_data[missing_data > 30].sort_values(ascending=False)\n",
    "missing_data"
   ]
  },
  {
   "cell_type": "markdown",
   "metadata": {},
   "source": [
    "High missingness (>30–40%) → ask: is this variable really useful? Sometimes better to drop."
   ]
  },
  {
   "cell_type": "markdown",
   "metadata": {},
   "source": [
    "- V206: Sons who have died\n",
    "- V207: daughters who have died\n",
    "- H9: Received MEASLES 1\n",
    "- H8: Received POLIO 3\n",
    "- H7: Received DPT 3\n",
    "- H6: Received POLIO 2\n",
    "- H5: Received DPT 2\n",
    "- H4: Received POLIO 1\n",
    "- H3: Received DPT 1\n",
    "- H2: Received BCG\n",
    "- M14: Number of ANC visits\n",
    "- M19: Birth weight in kilograms (3 decimals) -> We already handled missing values in M18, so this can be easily dropped\n",
    "- M70: Baby postnatal check (within 2 months)\n",
    "\n",
    "All these variables are unreliable. \n",
    "\n",
    "\n"
   ]
  },
  {
   "cell_type": "markdown",
   "metadata": {},
   "source": [
    "Revision of the Data Modeling Strategy:\n",
    "To answer the research question, 4 concepts are required for each subject.\n",
    "1. Geographical location\n",
    "2. Outcomes -> mortality & morbidity \n",
    "3. Care Seeking Behavior\n",
    "   1. Preventive dimensions -> Vaccinations (this will be dropped)\n",
    "   2. Responsive dimensions -> Treatment and seeking help\n",
    "   3. Exposure dimensions -> birth weight (kept through M18, though a lot of missing data and \"I don't know\") + ANC/PNC (high level of missingness)\n",
    "4. Contextual/ Environmental Risk Factors"
   ]
  },
  {
   "cell_type": "markdown",
   "metadata": {},
   "source": [
    "- Given their extremely high missingness, retaining these variables risked introducing noise, unreliable imputation, or loss of interpretability.\n",
    "- Since alternative variables capturing **care-seeking behavior, birth conditions, and outcomes** were already included, dropping these variables would not jeopardize the analytic strategy.\n",
    "- **Action:** All variables with >30% missingness were **dropped**."
   ]
  },
  {
   "cell_type": "code",
   "execution_count": 114,
   "metadata": {},
   "outputs": [],
   "source": [
    "cols_to_drop = [\n",
    "    \"V206\",\n",
    "    \"V207\",\n",
    "    \"H9\",\n",
    "    \"H8\",\n",
    "    \"H7\",\n",
    "    \"H6\",\n",
    "    \"H5\",\n",
    "    \"H4\",\n",
    "    \"H3\",\n",
    "    \"H2\",\n",
    "    \"M14\",\n",
    "    \"M19\",\n",
    "    \"M70\",\n",
    "]\n",
    "KR_df = KR_df.drop(columns=cols_to_drop)"
   ]
  },
  {
   "cell_type": "code",
   "execution_count": 115,
   "metadata": {},
   "outputs": [
    {
     "data": {
      "text/plain": [
       "0"
      ]
     },
     "execution_count": 115,
     "metadata": {},
     "output_type": "execute_result"
    }
   ],
   "source": [
    "KR_df.isna().sum().sum()"
   ]
  },
  {
   "cell_type": "code",
   "execution_count": 116,
   "metadata": {},
   "outputs": [],
   "source": [
    "KR_df.to_csv(\"KR_cleaned_df.csv\")"
   ]
  }
 ],
 "metadata": {
  "colab": {
   "authorship_tag": "ABX9TyNo34bUsXDXF1iOT32Lwbm6",
   "provenance": []
  },
  "kernelspec": {
   "display_name": "Python 3",
   "language": "python",
   "name": "python3"
  },
  "language_info": {
   "codemirror_mode": {
    "name": "ipython",
    "version": 3
   },
   "file_extension": ".py",
   "mimetype": "text/x-python",
   "name": "python",
   "nbconvert_exporter": "python",
   "pygments_lexer": "ipython3",
   "version": "3.10.7"
  }
 },
 "nbformat": 4,
 "nbformat_minor": 0
}
